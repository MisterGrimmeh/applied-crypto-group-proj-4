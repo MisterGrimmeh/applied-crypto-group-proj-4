{
 "cells": [
  {
   "cell_type": "markdown",
   "id": "cda5cee6-e706-4633-9eae-147567179c8d",
   "metadata": {},
   "source": [
    "# Part I: Literature Review"
   ]
  },
  {
   "cell_type": "markdown",
   "id": "4764ead8-3423-40f2-a908-fcd2904f3ed9",
   "metadata": {},
   "source": [
    "## *A Trustworthy Data Verification Technique for Cross-Chain Data Sharing Based on Merkle Trees*<sup>1</sup>\n",
    "\n",
    "The authors proposed a novel technique for data verification in cross-chain data sharing based on Merkle trees, which provides an efficient and secure way to validate data in a decentralized environment. The authors describe their method as computing hashes of fixed-sized blocks from the shared data. These pairs of hashes form the binary tree structure, where the leaves are hashed into nodes and so on eventually creating the root. The root is then shared in a relay mechanism along with the corresponding data and the receiver then computes the same Merkle tree from the data. Should the roots contradict, it can be assumed the data is tainted and treated as such.\n",
    "\n",
    "The important implication by the authors is that the relay mechanism is efficient in providing authenticity and security. Computation time of the Merkle tree is efficient when compared to using a double-layer index or EtherQL, Ethereum's data\n",
    "structure. This makes it ideal for decentralized sharing of data, specifically in blockchains."
   ]
  },
  {
   "cell_type": "markdown",
   "id": "a35ea776-18a5-4ee5-ab60-22d5e5b3bac9",
   "metadata": {},
   "source": [
    "## *A Quantum-Resistant Photonic Hash Function*<sup>2</sup>\n",
    "\n",
    "Researchers propose a quantum-resistant photonic hash function that demonstrates strong collision resistance, with attempts required increaing exponentially with the number of modes in the quantum hash function thus suggesting robust resistance against birthday attacks. The proposed hash function is designed to be secure against attacks from quantum computers into the future, with strong implications for blockchain systems that are vulnerable to quantum attacks. The authors also highlight that the Gaussian boson sampling approach is easier to implement with current technology compared to other quantum hashing methods, making it feasible to impliment now, and, along with exponential scalability, make sit highly cost-effective."
   ]
  },
  {
   "cell_type": "markdown",
   "id": "a913f8a9-d9f8-4d51-ad92-c875b1f56961",
   "metadata": {},
   "source": [
    "## *Improving Transaction Speed and Scalability of Blockchain Systems via Parallel Proof of Work*<sup>3</sup>\n",
    "\n",
    "This paper proposes a method for accelerating the process of proof of work based on parallel mining rather than solo mining (as in, cooperative hash puzzles). This method aims to ensure that multiple miners can work on solving a block simultaneously without duplicating efforts. Th emotivation is to increase the performance and scalability of blockchain cryptocurrency to bridge the gap in transaction times compared to traditional payment systems."
   ]
  },
  {
   "cell_type": "markdown",
   "id": "73043e64-2b14-4f3d-8c22-b02ba841b550",
   "metadata": {},
   "source": [
    "## References\n",
    "\n",
    "1. Wang, R., Zhong, S., Zhou, Q., & Tu, J. (2023). A Trustworthy Data Verification Technique for Cross-Chain Data Sharing Based on Merkle Trees. *In 2023 International Conference on Distributed Computing and Electrical Circuits and Electronics (ICDCECE)* (pp. 1-6).\n",
    "2. Tomoya Hatanaka, Rikuto Fushio, Masataka Watanabe, William J. Munro, Tatsuhiko N. Ikeda, & Sho Sugiura. (2024). A Quantum-Resistant Photonic Hash Function.\n",
    "3. Shahriar Hazari, S., & Mahmoud, Q. (2020). Improving Transaction Speed and Scalability of Blockchain Systems via Parallel Proof of Work. *Future Internet*, 12(8)."
   ]
  }
 ],
 "metadata": {
  "kernelspec": {
   "display_name": "Python 3 (ipykernel)",
   "language": "python",
   "name": "python3"
  },
  "language_info": {
   "codemirror_mode": {
    "name": "ipython",
    "version": 3
   },
   "file_extension": ".py",
   "mimetype": "text/x-python",
   "name": "python",
   "nbconvert_exporter": "python",
   "pygments_lexer": "ipython3",
   "version": "3.13.2"
  }
 },
 "nbformat": 4,
 "nbformat_minor": 5
}
