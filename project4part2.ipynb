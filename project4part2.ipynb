{
 "cells": [
  {
   "cell_type": "markdown",
   "id": "a2da2cef-6e81-4cd9-ba32-092097c2ea87",
   "metadata": {},
   "source": [
    "# Part II: Essay Questions"
   ]
  },
  {
   "cell_type": "markdown",
   "id": "34f44df5-20c5-42d0-bea8-cf949ed35d77",
   "metadata": {},
   "source": [
    "## Mathematical inevitability\n",
    "\n",
    "> Explain why hash collisions are a mathematical inevitability.\n",
    "\n",
    "Hash collisions are a mathematical inevitability due to the pigeonhole principle, which states that if you map *items* into *containers*, where the number of items exceeds the number of containers, at least one container must hold more than one item. Here, the *items* are inputs into the hash function, and the *containers* are the hashes outputted by the hash functions. Therefore, there must be two inputs that result in the same hashes, given a sufficiently large input set and a sufficiently small output set. This is then exaggerated by the birthday paradox that implies that the probability of collisions increases exponentially and dictates the probability of collisions given the input space.\n",
    "\n",
    "This can be generalized with $m$ containers and $n$ items as\n",
    "\n",
    "$$\n",
    "p(n) = 1 - \\frac{(m)_n}{m^n}\n",
    "$$\n",
    "\n",
    "where $(m)_{n}$ is the falling factorial\n",
    "\n",
    "$$\n",
    "\\prod_{k=0}^{n-1} m-k\n",
    "$$\n",
    "\n",
    "which can be reduced to\n",
    "\n",
    "$$\n",
    "p(n) = 1 - \\prod_{k=0}^{n-1} \\frac{m - k}{m}\n",
    "$$"
   ]
  },
  {
   "cell_type": "markdown",
   "id": "1397dbf5-999b-46c7-a530-95e138c64b13",
   "metadata": {},
   "source": [
    "## Shared birthday with Trudy\n",
    "\n",
    "> Considering a room with $n$ people, including Trudy, what's the probability that at least one other person shares Trudy's birthday? At what minimum $n$ does this probability exceed 50%?\n",
    "\n",
    "Each person’s birthday is assumed to be equally likely on any of 365 days. There are $n-1$ other people besides Trudy. Each of those people has a $\\frac{1}{365}$ chance of having Trudy's birth, or, $\\frac{364}{365}$ chance of not having her birthday.\n",
    "\n",
    "Generally, this is\n",
    "\n",
    "$$\n",
    "q(n; d) = 1 - \\left( \\frac{d-1}{d} \\right)^n\n",
    "$$\n",
    "\n",
    "which specifically will be\n",
    "\n",
    "$$\n",
    "q(n; 365) = 1 - \\left( \\frac{364}{365} \\right)^{n-1} \\geq 0.5\n",
    "$$\n",
    "\n",
    "We find that $n=254$ satisfies the problem.\n",
    "\n",
    "$$\n",
    "q(254; 365) = 1 - \\left( \\frac{364}{365} \\right)^{254-1} \\approx 0.50047\\quad (50.1\\% )\n",
    "$$"
   ]
  },
  {
   "cell_type": "markdown",
   "id": "f2a47efe-60be-4f6c-ab92-10e8fd6921d7",
   "metadata": {},
   "source": [
    "## Any two shared birthdays\n",
    "\n",
    "> In a room of $n$ people ($n \\leq 365$), what's the probability of any two sharing a birthday, and what's the minimum $n$ for this probability to be over 50%?\n",
    "\n",
    "The probability of any two sharing a birthday, $p(n) = 1-\\bar p(n)$\n",
    "\n",
    "$$\n",
    "p(n) = 1 - \\prod_{k=0}^{n-1} \\frac{365-k}{365}\n",
    "$$\n",
    "\n",
    "For\n",
    "\n",
    "$$\n",
    "p(n) = 1 - \\prod_{k=0}^{n-1} \\frac{365-k}{365} \\geq 0.5\n",
    "$$\n",
    "\n",
    "we find $n = 23$.\n",
    "\n",
    "$$\n",
    "p(23) = 1 - \\prod_{k=0}^{23-1} \\frac{365-k}{365} \\approx 0.5072\\quad (50.7\\%)\n",
    "$$"
   ]
  },
  {
   "cell_type": "markdown",
   "id": "6cea852e-c9a3-4e3f-af4d-f5a96bccc147",
   "metadata": {},
   "source": [
    "## Birthday attack efficiency\n",
    "\n",
    "> Describe the principle of the birthday attack on hashing and how it offers efficiency over brute-force attacks.\n",
    "\n",
    "The birthday attack leverages the probability of finding two inputs that hash to the same value (a *collision*). In a brute-force search, the probability of finding a collision reaches 50% with $2^{n}$ attempts. The birthday paradox implies that the probability of finding *any* collision (albiet not a target collision) grows exponentially faster than that, taking only $2^{n/2}$ attempts to reach a 50% probability (which is the classical preimage resistance). This implies a greater attack efficiency compared to brute-forcing by taking less attempts to find hash collisions. The resulting collision can be exploited in replay attacks or break trust in digital signatures. This attack highlights the importance of choosing strong, collision-resistant hash functions with sufficiently large output sizes to make such attacks infeasible. For example, SHA-256 would take up to $2^{256}$ attempts to find with brute forcing, while the birthday paradox suggests that $2^{128}$ attempts would be enough."
   ]
  },
  {
   "cell_type": "markdown",
   "id": "9761db94-7c79-469a-898b-dbe506127065",
   "metadata": {},
   "source": [
    "## Merkle–Damgård construction issues<sup>1</sup>\n",
    "\n",
    "> Discuss the main issues associated with hash functions created using the Merkle–Damgård construction process.\n",
    "\n",
    "### Length extension attack\n",
    "\n",
    "A major weakness of Merkle–Damgård-based hashes is their susceptibility to length extension attacks. If an attacker knows the hash $h(m)$ of a message $m$, they can compute the hash of $m$ appended with additional data $m'$, $h(m\\Vert m')$, without knowing the original message. Because the Merkle–Damgård construction is done in a sequential, iterative manner, the internal state after processing $m$ is the same as the initial state for processing $m'$, allowing attackers to extend the message and generate a valid hash.\n",
    "\n",
    "### Herding attack<sup>2</sup>\n",
    "\n",
    "Due to how the chaining process works, once a single collision is found, it can be extended to generate multiple collisions without additional effort, called herding attacks. They combine a collision-finding attack against to build a diamond structure, which then follows with searches for a string $s$ such that $m\\Vert s$ collides with one of the diamond structure’s intermediate states. Having found such a string $s$, we can construct a sequence of message blocks $q$ from the diamond structure, and build a suffix $s' = s\\Vert q$ such that $h(m\\Vert s') = h$, requiring a negligible amount of additional work.\n",
    "\n",
    "### Long second preimage attacks<sup>3</sup>\n",
    "\n",
    "A second preimage attack aims to find a different message $m'$ that produces the same hash as a given message $m$, $h(m)=h(m')$. With a sufficiently long message, and thus many intermediary values, an attacker may find an inermediate value with a collision that results in the same final hash. In general, a brute-force second preimage attack requires about $2^{n}$ operations for an output size $n$, however, for long messages, Merkle–Damgård allows an attack that reduces this complexity to around $2^{n/2}$.\n",
    "\n",
    "### References\n",
    "\n",
    "1. Tiwari, H. (2017). Merkle–Damgård Construction Method and Alternatives: A Review. *Journal of Information and Organizational Sciences*, 41, 283-304.\n",
    "\n",
    "2. Kelsey, J., & Kohno, T. (2006). Herding Hash Functions and the Nostradamus Attack. *In Advances in Cryptology - EUROCRYPT 2006* (pp. 183–200). Springer Berlin Heidelberg.\n",
    "\n",
    "3. John Kelsey, & Bruce Schneier. (2004). Second Preimages on *n*-bit Hash Functions for Much Less than 2<sup>n</sup> Work."
   ]
  },
  {
   "cell_type": "code",
   "execution_count": null,
   "id": "9179524c-f902-4f99-b093-5dbfd89eae19",
   "metadata": {},
   "outputs": [],
   "source": []
  }
 ],
 "metadata": {
  "kernelspec": {
   "display_name": "Python 3 (ipykernel)",
   "language": "python",
   "name": "python3"
  },
  "language_info": {
   "codemirror_mode": {
    "name": "ipython",
    "version": 3
   },
   "file_extension": ".py",
   "mimetype": "text/x-python",
   "name": "python",
   "nbconvert_exporter": "python",
   "pygments_lexer": "ipython3",
   "version": "3.13.2"
  }
 },
 "nbformat": 4,
 "nbformat_minor": 5
}
