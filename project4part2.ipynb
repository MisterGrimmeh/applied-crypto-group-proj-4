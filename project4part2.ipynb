{
 "cells": [
  {
   "cell_type": "markdown",
   "id": "a2da2cef-6e81-4cd9-ba32-092097c2ea87",
   "metadata": {},
   "source": [
    "# Part II: Essay Questions"
   ]
  },
  {
   "cell_type": "markdown",
   "id": "34f44df5-20c5-42d0-bea8-cf949ed35d77",
   "metadata": {},
   "source": [
    "## 1.\n",
    "\n",
    "> Explain why hash collisions are a mathematical inevitability.\n",
    "\n",
    "Hash collisions are a mathematical inevitability due to the pigeonhole principle, which states that if you map *items* into *containers*, where the number of items exceeds the number of containers, at least one container must hold more than one item. Here, the *items* are inputs into the hash function, and the *containers* are the hashes outputted by the hash functions. Therefore, there must be two inputs that result in the same hashes, given a sufficiently large input set and a sufficiently small output set. This is then exaggerated by the birthday paradox that implies that the probability of collisions increases exponentially and dictates the probability of collisions given the input space."
   ]
  },
  {
   "cell_type": "markdown",
   "id": "1397dbf5-999b-46c7-a530-95e138c64b13",
   "metadata": {},
   "source": [
    "## 2.\n",
    "\n",
    "> Considering a room with $N$ people, including Trudy, what's the probability that at least one other person shares Trudy's birthday? At what minimum $N$ does this probability exceed 50%?\n",
    "\n",
    "Each person’s birthday is assumed to be equally likely on any of 365 days. There are $N-1$ other people besides Trudy. Each of those people has a $\\frac{1}{365}$ chance of having Trudy's birth, or, $\\frac{364}{365}$ chance of not having her birthday. Thus, the probability that one other person having the same birthday is $1 - \\frac{364}{365}^{N-1}$.\n",
    "\n",
    "For $1 - \\frac{364}{365}^{N-1}<0.5$, we find that $N=254$."
   ]
  },
  {
   "cell_type": "markdown",
   "id": "f2a47efe-60be-4f6c-ab92-10e8fd6921d7",
   "metadata": {},
   "source": [
    "## 3.\n",
    "\n",
    "> In a room of $N$ people ($N \\leq 365$), what's the probability of any two sharing a birthday, and what's the minimum $N$ for this probability to be over 50%?\n",
    "\n",
    "The probability of any two sharing a birthday, $\\bar p(N) = 1-p(N)$\n",
    "\n",
    "$$\n",
    "\\bar p(N) = 1-\\prod_{k=0}^{N-1} \\frac{365-k}{365}\n",
    "$$\n",
    "\n",
    "For\n",
    "\n",
    "$$\n",
    "1-\\prod_{k=0}^{N-1} \\frac{365-k}{365}>0.5\n",
    "$$\n",
    "\n",
    "we find $N = 23$."
   ]
  },
  {
   "cell_type": "markdown",
   "id": "6cea852e-c9a3-4e3f-af4d-f5a96bccc147",
   "metadata": {},
   "source": [
    "## 4.\n",
    "\n",
    "> Describe the principle of the birthday attack on hashing and how it offers efficiency over brute-force attacks."
   ]
  },
  {
   "cell_type": "markdown",
   "id": "9761db94-7c79-469a-898b-dbe506127065",
   "metadata": {},
   "source": [
    "## 5.\n",
    "\n",
    "> Discuss the main issues."
   ]
  }
 ],
 "metadata": {
  "kernelspec": {
   "display_name": "Python 3 (ipykernel)",
   "language": "python",
   "name": "python3"
  },
  "language_info": {
   "codemirror_mode": {
    "name": "ipython",
    "version": 3
   },
   "file_extension": ".py",
   "mimetype": "text/x-python",
   "name": "python",
   "nbconvert_exporter": "python",
   "pygments_lexer": "ipython3",
   "version": "3.13.2"
  }
 },
 "nbformat": 4,
 "nbformat_minor": 5
}
